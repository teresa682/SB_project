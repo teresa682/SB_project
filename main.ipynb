{
 "cells": [
  {
   "cell_type": "code",
   "execution_count": 8,
   "metadata": {},
   "outputs": [],
   "source": [
    "import mewpy \n",
    "from cobra.io import read_sbml_model \n",
    "from mewpy.simulation import get_simulator\n",
    "from utils import *\n",
    "\n",
    "import matplotlib.pyplot as plt\n"
   ]
  },
  {
   "attachments": {},
   "cell_type": "markdown",
   "metadata": {},
   "source": [
    "# 1. Importing model"
   ]
  },
  {
   "cell_type": "code",
   "execution_count": 2,
   "metadata": {},
   "outputs": [
    {
     "name": "stdout",
     "output_type": "stream",
     "text": [
      "Objective\n",
      "=========\n",
      "1.0 BIOMASS_HP_published = 0.6928126934734458\n",
      "\n",
      "Uptake\n",
      "------\n",
      "Metabolite    Reaction      Flux  C-Number C-Flux\n",
      "  ala__D_e EX_ala__D_e        10         3 38.15%\n",
      "  ala__L_e EX_ala__L_e        10         3 38.15%\n",
      "  arg__L_e EX_arg__L_e     2.151         6 16.41%\n",
      "       h_e      EX_h_e     3.981         0  0.00%\n",
      "  his__L_e EX_his__L_e   0.06235         6  0.48%\n",
      "  ile__L_e EX_ile__L_e    0.1912         6  1.46%\n",
      "  leu__L_e EX_leu__L_e    0.2965         6  2.26%\n",
      "  met__L_e EX_met__L_e    0.2054         5  1.31%\n",
      "      o2_e     EX_o2_e        12         0  0.00%\n",
      "   pheme_e  EX_pheme_e 4.157E-06        34  0.00%\n",
      "      pi_e     EX_pi_e     0.642         0  0.00%\n",
      "    pime_e   EX_pime_e 4.157E-06         7  0.00%\n",
      "     thm_e    EX_thm_e 4.157E-06        12  0.00%\n",
      "  val__L_e EX_val__L_e    0.2786         5  1.77%\n",
      "\n",
      "Secretion\n",
      "---------\n",
      "Metabolite    Reaction       Flux  C-Number C-Flux\n",
      "    amob_c   DM_amob_c -4.157E-06        15  0.00%\n",
      "  hmfurn_c DM_hmfurn_c   -0.06032         5  0.60%\n",
      "      ac_e     EX_ac_e     -11.07         2 44.14%\n",
      "     co2_e    EX_co2_e     -12.61         1 25.14%\n",
      "     for_e    EX_for_e   -0.01592         1  0.03%\n",
      "     nh4_e    EX_nh4_e     -19.84         0  0.00%\n",
      "     orn_e    EX_orn_e     -1.137         5 11.34%\n",
      "    succ_e   EX_succ_e     -2.196         4 17.52%\n",
      "   ahcys_c  SK_ahcys_c   -0.04391        14  1.23%\n",
      "\n",
      "{'EX_pime_e': 10.0, 'EX_pheme_e': 10.0, 'EX_pi_e': 999999.0, 'EX_fe2_e': 999999.0, 'EX_fe3_e': 999999.0, 'EX_h_e': 999999.0, 'EX_his__L_e': 10.0, 'EX_ile__L_e': 10.0, 'EX_leu__L_e': 10.0, 'EX_met__L_e': 10.0, 'EX_nh4_e': 999999.0, 'EX_o2_e': 12.0, 'EX_so4_e': 999999.0, 'EX_thm_e': 10.0, 'EX_val__L_e': 10.0, 'EX_ala__D_e': 10.0, 'EX_ala__L_e': 10.0, 'EX_arg__L_e': 10.0}\n"
     ]
    }
   ],
   "source": [
    "model = read_sbml_model(\"iIT341.xml\")\n",
    "print(model.summary())\n",
    "print(model.medium)\n",
    "\n",
    "# Converting model medium (cobrapy format) to environmental conditions (mewpy format):\n",
    "# {'EX_pime_e': (-10.0, 999999.0), 'EX_pheme_e': (-10.0, 999999.0), 'EX_pi_e': (-999999.0,999999.0), 'EX_fe2_e': (-999999.0,999999.0), 'EX_fe3_e': (-999999.0,999999.0), 'EX_h_e':(-999999.0,999999.0), 'EX_his__L_e': (-10.0,999999.0), 'EX_ile__L_e': (-10.0,999999.0), 'EX_leu__L_e': (-10.0,999999.0), 'EX_met__L_e': (-10.0,999999.0), 'EX_nh4_e': (-999999.0,999999.0), 'EX_o2_e': (-12.0,999999.0), 'EX_so4_e': (-999999.0,999999.0), 'EX_thm_e': (-10.0,999999.0), 'EX_val__L_e': (-10.0,999999.0), 'EX_ala__D_e': (-10.0,999999.0), 'EX_ala__L_e': (-10.0,999999.0), 'EX_arg__L_e': (-10.0,999999.0)}\n"
   ]
  },
  {
   "attachments": {},
   "cell_type": "markdown",
   "metadata": {},
   "source": [
    "# 2. Model Validation"
   ]
  },
  {
   "attachments": {},
   "cell_type": "markdown",
   "metadata": {},
   "source": [
    "2.1 Simulating growth under normal conditions"
   ]
  },
  {
   "cell_type": "code",
   "execution_count": 3,
   "metadata": {},
   "outputs": [
    {
     "name": "stdout",
     "output_type": "stream",
     "text": [
      "objective: 0.692812693473426\n",
      "Status: OPTIMAL\n",
      "Constraints: OrderedDict()\n",
      "Method:SimulationMethod.FBA\n"
     ]
    }
   ],
   "source": [
    "simul =  get_simulator(model.copy())\n",
    "result = simul.simulate()\n",
    "print(result)"
   ]
  },
  {
   "attachments": {},
   "cell_type": "markdown",
   "metadata": {},
   "source": [
    "2.2 Simulating growth under anaerobic conditions"
   ]
  },
  {
   "cell_type": "code",
   "execution_count": 4,
   "metadata": {},
   "outputs": [
    {
     "name": "stdout",
     "output_type": "stream",
     "text": [
      "objective: 1.92823161414185e-16\n",
      "Status: OPTIMAL\n",
      "Constraints: OrderedDict([('EX_pime_e', (-10.0, 999999.0)), ('EX_pheme_e', (-10.0, 999999.0)), ('EX_pi_e', (-999999.0, 999999.0)), ('EX_fe2_e', (-999999.0, 999999.0)), ('EX_fe3_e', (-999999.0, 999999.0)), ('EX_h_e', (-999999.0, 999999.0)), ('EX_his__L_e', (-10.0, 999999.0)), ('EX_ile__L_e', (-10.0, 999999.0)), ('EX_leu__L_e', (-10.0, 999999.0)), ('EX_met__L_e', (-10.0, 999999.0)), ('EX_nh4_e', (-999999.0, 999999.0)), ('EX_o2_e', (0, 999999.0)), ('EX_so4_e', (-999999.0, 999999.0)), ('EX_thm_e', (-10.0, 999999.0)), ('EX_val__L_e', (-10.0, 999999.0)), ('EX_ala__D_e', (-10.0, 999999.0)), ('EX_ala__L_e', (-10.0, 999999.0)), ('EX_arg__L_e', (-10.0, 999999.0))])\n",
      "Method:SimulationMethod.FBA\n"
     ]
    }
   ],
   "source": [
    "# test under anaerobic conditions\n",
    "\n",
    "#create environmental conditions\n",
    "anae_cond = {'EX_pime_e': (-10.0, 999999.0), 'EX_pheme_e': (-10.0, 999999.0), 'EX_pi_e': (-999999.0,999999.0), 'EX_fe2_e': (-999999.0,999999.0), 'EX_fe3_e': (-999999.0,999999.0), 'EX_h_e':(-999999.0,999999.0), 'EX_his__L_e': (-10.0,999999.0), 'EX_ile__L_e': (-10.0,999999.0), 'EX_leu__L_e': (-10.0,999999.0), 'EX_met__L_e': (-10.0,999999.0), 'EX_nh4_e': (-999999.0,999999.0), 'EX_o2_e': (0,999999.0), 'EX_so4_e': (-999999.0,999999.0), 'EX_thm_e': (-10.0,999999.0), 'EX_val__L_e': (-10.0,999999.0), 'EX_ala__D_e': (-10.0,999999.0), 'EX_ala__L_e': (-10.0,999999.0), 'EX_arg__L_e': (-10.0,999999.0)}\n",
    "\n",
    "\n",
    "simul_ana = get_simulator(model.copy(), envcond=anae_cond)\n",
    "result_ana = simul_ana.simulate()\n",
    "print(result_ana)\n",
    "\n",
    "#No growth = VALIDATED \n"
   ]
  },
  {
   "attachments": {},
   "cell_type": "markdown",
   "metadata": {},
   "source": [
    "2.3 Simulating growth using essential amino acids only"
   ]
  },
  {
   "cell_type": "code",
   "execution_count": 5,
   "metadata": {},
   "outputs": [
    {
     "name": "stdout",
     "output_type": "stream",
     "text": [
      "objective: 1.0789122661499178e-18\n",
      "Status: OPTIMAL\n",
      "Constraints: OrderedDict([('EX_pime_e', (-10.0, 999999.0)), ('EX_pheme_e', (-10.0, 999999.0)), ('EX_pi_e', (-999999.0, 999999.0)), ('EX_fe2_e', (-999999.0, 999999.0)), ('EX_fe3_e', (-999999.0, 999999.0)), ('EX_h_e', (-999999.0, 999999.0)), ('EX_his__L_e', (-10.0, 999999.0)), ('EX_ile__L_e', (-10.0, 999999.0)), ('EX_leu__L_e', (-10.0, 999999.0)), ('EX_met__L_e', (-10.0, 999999.0)), ('EX_nh4_e', (-999999.0, 999999.0)), ('EX_o2_e', (-12.0, 999999.0)), ('EX_so4_e', (-999999.0, 999999.0)), ('EX_thm_e', (-10.0, 999999.0)), ('EX_val__L_e', (-10.0, 999999.0)), ('EX_ala__D_e', (0.0, 999999.0)), ('EX_ala__L_e', (0.0, 999999.0)), ('EX_arg__L_e', (-10.0, 999999.0)), ('EX_phe__L_e', (-10.0, 999999.0))])\n",
      "Method:SimulationMethod.FBA\n"
     ]
    }
   ],
   "source": [
    "# test with only essential AAs \n",
    "\n",
    "#Create environmental conditions:\n",
    "#remove both alanines -> no sole carbon source (just essential AAs)\n",
    "# L-arginine  (model name: EX_arg__L_e)\n",
    "# L-histidine  (model name: EX_his__L_e)\n",
    "# L-isoleucine (model name: EX_ile__L_e)\n",
    "# L-leucine (model name: EX_leu__L_e)\n",
    "# L-methionine (model name: EX_met__L_e)\n",
    "# L-phenylalanine (model name: EX_phe__L_e)\n",
    "# L-valine (model name: EX_val__L_e)\n",
    "# L-alanine (model name: EX_ala__L_e) -> 0 uptake\n",
    "# D-alanine (model name: EX_ala__D_e) -> 0 uptake\n",
    "\n",
    "essential_aa_cond = {'EX_pime_e': (-10.0, 999999.0), 'EX_pheme_e': (-10.0, 999999.0), 'EX_pi_e': (-999999.0,999999.0), 'EX_fe2_e': (-999999.0,999999.0), 'EX_fe3_e': (-999999.0,999999.0), 'EX_h_e':(-999999.0,999999.0), 'EX_his__L_e': (-10.0,999999.0), 'EX_ile__L_e': (-10.0,999999.0), 'EX_leu__L_e': (-10.0,999999.0), 'EX_met__L_e': (-10.0,999999.0), 'EX_nh4_e': (-999999.0,999999.0), 'EX_o2_e': (-12.0,999999.0), 'EX_so4_e': (-999999.0,999999.0), 'EX_thm_e': (-10.0,999999.0), 'EX_val__L_e': (-10.0,999999.0), 'EX_ala__D_e': (0.0,999999.0), 'EX_ala__L_e': (0.0,999999.0), 'EX_arg__L_e': (-10.0,999999.0), 'EX_phe__L_e':(-10.0, 999999.0)}\n",
    "\n",
    "simul_aa = get_simulator(model.copy(), envcond=essential_aa_cond)\n",
    "result_aa = simul_aa.simulate()\n",
    "print(result_aa)\n",
    "\n",
    "#no growth = VALIDATED\n"
   ]
  },
  {
   "attachments": {},
   "cell_type": "markdown",
   "metadata": {},
   "source": [
    "2.4 Simulating growth using L-alanine as the sole carbon source"
   ]
  },
  {
   "cell_type": "code",
   "execution_count": 6,
   "metadata": {},
   "outputs": [
    {
     "name": "stdout",
     "output_type": "stream",
     "text": [
      "objective: 0.6221652124983721\n",
      "Status: OPTIMAL\n",
      "Constraints: OrderedDict([('EX_pime_e', (-10.0, 999999.0)), ('EX_pheme_e', (-10.0, 999999.0)), ('EX_pi_e', (-999999.0, 999999.0)), ('EX_fe2_e', (-999999.0, 999999.0)), ('EX_fe3_e', (-999999.0, 999999.0)), ('EX_h_e', (-999999.0, 999999.0)), ('EX_his__L_e', (-10.0, 999999.0)), ('EX_ile__L_e', (-10.0, 999999.0)), ('EX_leu__L_e', (-10.0, 999999.0)), ('EX_met__L_e', (-10.0, 999999.0)), ('EX_nh4_e', (-999999.0, 999999.0)), ('EX_o2_e', (-12.0, 999999.0)), ('EX_so4_e', (-999999.0, 999999.0)), ('EX_thm_e', (-10.0, 999999.0)), ('EX_val__L_e', (-10.0, 999999.0)), ('EX_ala__D_e', (0.0, 999999.0)), ('EX_ala__L_e', (-10.0, 999999.0)), ('EX_arg__L_e', (-10.0, 999999.0)), ('EX_phe__L_e', (-10.0, 999999.0))])\n",
      "Method:SimulationMethod.FBA\n"
     ]
    }
   ],
   "source": [
    "#test with L-alanine as sole carbon source\n",
    "\n",
    "#Create environmental conditions:\n",
    "l_ala_cond = {'EX_pime_e': (-10.0, 999999.0), 'EX_pheme_e': (-10.0, 999999.0), 'EX_pi_e': (-999999.0,999999.0), 'EX_fe2_e': (-999999.0,999999.0), 'EX_fe3_e': (-999999.0,999999.0), 'EX_h_e':(-999999.0,999999.0), 'EX_his__L_e': (-10.0,999999.0), 'EX_ile__L_e': (-10.0,999999.0), 'EX_leu__L_e': (-10.0,999999.0), 'EX_met__L_e': (-10.0,999999.0), 'EX_nh4_e': (-999999.0,999999.0), 'EX_o2_e': (-12.0,999999.0), 'EX_so4_e': (-999999.0,999999.0), 'EX_thm_e': (-10.0,999999.0), 'EX_val__L_e': (-10.0,999999.0), 'EX_ala__D_e': (0.0,999999.0), 'EX_ala__L_e': (-10.0,999999.0), 'EX_arg__L_e': (-10.0,999999.0), 'EX_phe__L_e':(-10.0, 999999.0)}\n",
    "\n",
    "simul_l_ala = get_simulator(model.copy(), envcond=l_ala_cond)\n",
    "result_l_ala = simul_l_ala.simulate()\n",
    "print(result_l_ala)\n"
   ]
  },
  {
   "attachments": {},
   "cell_type": "markdown",
   "metadata": {},
   "source": [
    "Comparing all growths\n"
   ]
  },
  {
   "cell_type": "code",
   "execution_count": 88,
   "metadata": {},
   "outputs": [
    {
     "data": {
      "text/plain": [
       "Text(0.5, 0, 'Enviromental Conditions')"
      ]
     },
     "execution_count": 88,
     "metadata": {},
     "output_type": "execute_result"
    },
    {
     "data": {
      "image/png": "[encoded data removed]",
      "text/plain": [
       "<Figure size 640x480 with 1 Axes>"
      ]
     },
     "metadata": {},
     "output_type": "display_data"
    }
   ],
   "source": [
    "conditions = [\"Normal\", \"Anaerobic\", \"Essential Amino Acids\", \"L-alanine\"]\n",
    "growths = [result.objective_value, result_ana.objective_value, result_aa.objective_value, result_l_ala.objective_value]\n",
    "\n",
    "plt.bar(conditions, growths)\n",
    "plt.ylabel(\"Biomass Flux Value\")\n",
    "plt.xlabel(\"Enviromental Conditions\")\n"
   ]
  },
  {
   "attachments": {},
   "cell_type": "markdown",
   "metadata": {},
   "source": [
    "# 3. Drug Target Identification and Validation"
   ]
  },
  {
   "attachments": {},
   "cell_type": "markdown",
   "metadata": {},
   "source": [
    "- Finding list of essential genes"
   ]
  },
  {
   "cell_type": "code",
   "execution_count": 7,
   "metadata": {},
   "outputs": [
    {
     "name": "stderr",
     "output_type": "stream",
     "text": [
      "100%|██████████| 339/339 [00:02<00:00, 156.40it/s]"
     ]
    },
    {
     "name": "stdout",
     "output_type": "stream",
     "text": [
      "193\n"
     ]
    },
    {
     "name": "stderr",
     "output_type": "stream",
     "text": [
      "\n"
     ]
    }
   ],
   "source": [
    "essential_genes=simul.essential_genes(min_growth=0.01)\n",
    "print(len(essential_genes))"
   ]
  },
  {
   "attachments": {},
   "cell_type": "markdown",
   "metadata": {},
   "source": [
    "- Safety - BLAST against human proteome "
   ]
  },
  {
   "cell_type": "code",
   "execution_count": null,
   "metadata": {},
   "outputs": [],
   "source": [
    "#finding protein sequence of targets and converting to fasta file\n",
    "proteome = find_protein_seq(essential_genes)\n",
    "#creating fasta file FastaEssential.fasta\n",
    "write_fasta(proteome, \"FastaEssential.fasta\")\n",
    "#fasta file will then be used for blast against human \n",
    "blast(\"FastaEssential.fasta\")\n",
    "#finding genes with no hits\n",
    "no_hits = find_non_homologous('result_file.xml',  100000000)\n",
    "#finding protein sequence of genes with no hits\n",
    "no_hits_proteome = find_protein_seq(no_hits)\n",
    "#creating fasta file no_hits\n",
    "write_fasta(no_hits_proteome, \"no_hits_genes.fasta\")"
   ]
  },
  {
   "attachments": {},
   "cell_type": "markdown",
   "metadata": {},
   "source": [
    "- Finding Targets with Existing Drugs in DrugBank"
   ]
  },
  {
   "cell_type": "code",
   "execution_count": null,
   "metadata": {},
   "outputs": [],
   "source": [
    "def blast_main():\n",
    "    ids = []\n",
    "    prot_id = retrieve_id('no_hits_genes.fasta')\n",
    "    prot_id_db = hits_drug_bank('drug_bank_results.txt')\n",
    "    prot_id_accepted = hits_drug_bank('drug_bank_final_blast.txt')\n",
    "    ids.extend(prot_id, prot_id_db, prot_id_accepted)\n",
    "    for id in ids:\n",
    "        print(f'Number of proteins: {len(id)}')  # 115 hits that don't have results against the human proteome\n",
    "\n",
    "    write_fasta(find_protein_seq(prot_id_db),'db_protein_sequences.fasta') # fasta file with only the sequences of the 74 hits\n",
    "    write_fasta(find_protein_seq(prot_id_accepted),'only_accepted_targets.fasta') \n",
    "\n",
    "blast_main()"
   ]
  },
  {
   "attachments": {},
   "cell_type": "markdown",
   "metadata": {},
   "source": [
    "- Gene essentiality Validation"
   ]
  },
  {
   "cell_type": "code",
   "execution_count": 45,
   "metadata": {},
   "outputs": [
    {
     "name": "stdout",
     "output_type": "stream",
     "text": [
      "['HP0663', 'HP1161']\n"
     ]
    }
   ],
   "source": [
    "\n",
    "final_targets = [\"HP0195\", \"HP0663\", \"HP0642\", \"HP1161\"]\n",
    "#getting list of experimentally validated genes\n",
    "validated_genes = read_table_genes_to_validate(\"Helicobacter pylori 26695_genes.csv\")\n",
    "#finding whcg targets are validated\n",
    "validated_final_targets = [target for target in final_targets if target in validated_genes.unique()]\n",
    "print(validated_final_targets)\n"
   ]
  }
 ],
 "metadata": {
  "kernelspec": {
   "display_name": "base",
   "language": "python",
   "name": "python3"
  },
  "language_info": {
   "codemirror_mode": {
    "name": "ipython",
    "version": 3
   },
   "file_extension": ".py",
   "mimetype": "text/x-python",
   "name": "python",
   "nbconvert_exporter": "python",
   "pygments_lexer": "ipython3",
   "version": "3.9.16"
  },
  "orig_nbformat": 4
 },
 "nbformat": 4,
 "nbformat_minor": 2
}
